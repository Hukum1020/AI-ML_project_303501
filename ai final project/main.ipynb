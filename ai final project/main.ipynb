{
 "cells": [
  {
   "cell_type": "markdown",
   "id": "2f996c52",
   "metadata": {},
   "source": [
    "# Introduction\n",
    "\n",
    "In this notebook, we will perform clustering on a dataset of alien-colonized planets using the KMeans algorithm. The goal is to identify patterns and group similar planets together based on their features.\n",
    "\n",
    "### Importing Libraries"
   ]
  },
  {
   "cell_type": "code",
   "execution_count": null,
   "id": "a55761cf",
   "metadata": {},
   "outputs": [],
   "source": [
    "import pandas as pd\n",
    "from sklearn.preprocessing import StandardScaler, OneHotEncoder\n",
    "from sklearn.cluster import KMeans\n",
    "from sklearn.pipeline import Pipeline\n",
    "from sklearn.compose import ColumnTransformer\n",
    "from sklearn.decomposition import PCA\n",
    "import matplotlib.pyplot as plt"
   ]
  },
  {
   "cell_type": "markdown",
   "id": "8c23c437",
   "metadata": {},
   "source": [
    "We start by importing essential libraries such as pandas for data handling, scikit-learn for machine learning tasks, and matplotlib for plotting."
   ]
  },
  {
   "cell_type": "markdown",
   "id": "f7054c7d",
   "metadata": {},
   "source": [
    "### Loading the Dataset"
   ]
  },
  {
   "cell_type": "code",
   "execution_count": null,
   "id": "f2e25fed",
   "metadata": {},
   "outputs": [],
   "source": [
    "data = pd.read_csv(\"alien_galaxy.csv\")\n",
    "data.head()"
   ]
  },
  {
   "cell_type": "markdown",
   "id": "ab408084",
   "metadata": {},
   "source": [
    "We load the dataset and display the first few rows to understand the structure and contents of the data."
   ]
  },
  {
   "cell_type": "markdown",
   "id": "4b6b9549",
   "metadata": {},
   "source": [
    "### Data Preprocessing"
   ]
  },
  {
   "cell_type": "code",
   "execution_count": null,
   "id": "e4225857",
   "metadata": {},
   "outputs": [],
   "source": [
    "# Define a threshold to drop columns with more than 40% missing values\n",
    "threshold = 0.4 * len(data)\n",
    "data = data.dropna(thresh=threshold, axis=1)\n",
    "\n",
    "# Fill missing numerical values with the median of each column\n",
    "for col in data.select_dtypes(include=['float64', 'int64']).columns:\n",
    "    data[col].fillna(data[col].median(), inplace=True)\n",
    "\n",
    "# Fill missing categorical values with the mode of each column\n",
    "for col in data.select_dtypes(include=['object']).columns:\n",
    "    data[col].fillna(data[col].mode()[0], inplace=True)\n"
   ]
  },
  {
   "cell_type": "markdown",
   "id": "7fb52d0f",
   "metadata": {},
   "source": [
    "We handle missing values to ensure the dataset is suitable for modeling. Numerical columns are filled with the median to reduce the effect of outliers, while categorical columns are filled with the mode."
   ]
  },
  {
   "cell_type": "markdown",
   "id": "f0e3b801",
   "metadata": {},
   "source": [
    "### Feature Engineering"
   ]
  },
  {
   "cell_type": "code",
   "execution_count": null,
   "id": "94f0aad3",
   "metadata": {},
   "outputs": [],
   "source": [
    "# Convert 'Discovery_Date' to datetime and extract the year\n",
    "data['Discovery_Date'] = pd.to_datetime(data['Discovery_Date'], errors='coerce')\n",
    "data['Discovery_Year'] = data['Discovery_Date'].dt.year\n",
    "\n",
    "# Drop the original 'Discovery_Date' column\n",
    "data.drop(columns=['Discovery_Date'], inplace=True)"
   ]
  },
  {
   "cell_type": "markdown",
   "id": "1f0e463b",
   "metadata": {},
   "source": [
    "By extracting the discovery year, we create a new feature that might be relevant for clustering."
   ]
  },
  {
   "cell_type": "markdown",
   "id": "bf0d50c5",
   "metadata": {},
   "source": [
    "### Separating Feature Types"
   ]
  },
  {
   "cell_type": "code",
   "execution_count": null,
   "id": "a586bcf7",
   "metadata": {},
   "outputs": [],
   "source": [
    "# Identify numerical and categorical columns\n",
    "numerical_features = data.select_dtypes(include=['float64', 'int64']).columns.tolist()\n",
    "categorical_features = data.select_dtypes(include=['object']).columns.tolist()"
   ]
  },
  {
   "cell_type": "markdown",
   "id": "f906af7f",
   "metadata": {},
   "source": [
    "We separate the features to apply appropriate preprocessing steps to each type."
   ]
  },
  {
   "cell_type": "markdown",
   "id": "2b9e5f87",
   "metadata": {},
   "source": [
    "### Creating Preprocessing Pipelines"
   ]
  },
  {
   "cell_type": "code",
   "execution_count": null,
   "id": "91274472",
   "metadata": {},
   "outputs": [],
   "source": [
    "# Define the preprocessing for numerical and categorical data\n",
    "preprocessor = ColumnTransformer(\n",
    "    transformers=[\n",
    "        ('num', StandardScaler(), numerical_features),\n",
    "        ('cat', OneHotEncoder(handle_unknown='ignore'), categorical_features)\n",
    "    ]\n",
    ")"
   ]
  },
  {
   "cell_type": "markdown",
   "id": "a391f4d0",
   "metadata": {},
   "source": [
    "We standardize numerical features and one-hot encode categorical features to prepare the data for clustering."
   ]
  },
  {
   "cell_type": "markdown",
   "id": "c081ef9a",
   "metadata": {},
   "source": [
    "### Clustering with KMeans"
   ]
  },
  {
   "cell_type": "code",
   "execution_count": null,
   "id": "d6088d45",
   "metadata": {},
   "outputs": [],
   "source": [
    "# Create a pipeline that includes preprocessing and KMeans clustering\n",
    "kmeans_pipeline = Pipeline(steps=[\n",
    "    ('preprocessor', preprocessor),\n",
    "    ('kmeans', KMeans(n_clusters=5, random_state=42))\n",
    "])\n",
    "\n",
    "# Fit the model and predict cluster labels\n",
    "data['Cluster'] = kmeans_pipeline.fit_predict(data)\n"
   ]
  },
  {
   "cell_type": "markdown",
   "id": "60f051a0",
   "metadata": {},
   "source": [
    "We apply KMeans clustering to the preprocessed data and assign cluster labels to each planet."
   ]
  },
  {
   "cell_type": "markdown",
   "id": "3e9bb0d8",
   "metadata": {},
   "source": [
    "### Dimensionality Reduction with PCA"
   ]
  },
  {
   "cell_type": "code",
   "execution_count": null,
   "id": "fc05b5fc",
   "metadata": {},
   "outputs": [],
   "source": [
    "# Apply PCA to reduce data to 2 dimensions for visualization\n",
    "pca = PCA(n_components=2)\n",
    "data_pca = pca.fit_transform(preprocessor.fit_transform(data))\n",
    "\n",
    "# Add PCA components to the dataset\n",
    "data['PCA1'] = data_pca[:, 0]\n",
    "data['PCA2'] = data_pca[:, 1]"
   ]
  },
  {
   "cell_type": "markdown",
   "id": "ea02e1b3",
   "metadata": {},
   "source": [
    "We reduce the dimensionality of the data to visualize the clusters in a 2D plot."
   ]
  },
  {
   "cell_type": "markdown",
   "id": "e971704e",
   "metadata": {},
   "source": [
    "### Visualization"
   ]
  },
  {
   "cell_type": "code",
   "execution_count": null,
   "id": "e43fc7ba",
   "metadata": {},
   "outputs": [],
   "source": [
    "# Set up the plot\n",
    "plt.figure(figsize=(10, 7))\n",
    "colors = ['red', 'blue', 'green', 'purple', 'orange']\n",
    "\n",
    "# Plot each cluster\n",
    "for cluster in data['Cluster'].unique():\n",
    "    cluster_data = data[data['Cluster'] == cluster]\n",
    "    plt.scatter(cluster_data['PCA1'], cluster_data['PCA2'],\n",
    "                color=colors[cluster], label=f'Cluster {cluster}', alpha=0.6)\n",
    "\n",
    "# Add titles and labels\n",
    "plt.title(\"Clustering of Alien-Colonized Planets\")\n",
    "plt.xlabel(\"PCA Component 1\")\n",
    "plt.ylabel(\"PCA Component 2\")\n",
    "plt.legend(title='Cluster')\n",
    "plt.grid(True)\n",
    "\n",
    "# Save the figure to the images folder\n",
    "plt.savefig('images/cluster_visualization.png')\n",
    "\n",
    "# Display the plot\n",
    "plt.show()"
   ]
  },
  {
   "cell_type": "markdown",
   "id": "02835991",
   "metadata": {},
   "source": [
    "## Conclusion\n",
    "\n",
    "The clustering results suggest that there are distinct groups of alien-colonized planets, which may warrant further investigation to understand the underlying factors contributing to these groupings."
   ]
  }
 ],
 "metadata": {
  "kernelspec": {
   "display_name": "Python 3",
   "language": "python",
   "name": "python3"
  },
  "language_info": {
   "codemirror_mode": {
    "name": "ipython",
    "version": 3
   },
   "file_extension": ".py",
   "mimetype": "text/x-python",
   "name": "python",
   "nbconvert_exporter": "python",
   "pygments_lexer": "ipython3",
   "version": "3.11.9"
  }
 },
 "nbformat": 4,
 "nbformat_minor": 5
}
